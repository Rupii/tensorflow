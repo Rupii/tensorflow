{
 "cells": [
  {
   "cell_type": "markdown",
   "metadata": {},
   "source": [
    "## basic syntax"
   ]
  },
  {
   "cell_type": "code",
   "execution_count": 2,
   "metadata": {
    "collapsed": true
   },
   "outputs": [],
   "source": [
    "import tensorflow as tf"
   ]
  },
  {
   "cell_type": "code",
   "execution_count": 3,
   "metadata": {
    "collapsed": true
   },
   "outputs": [],
   "source": [
    "# word tensor is a ndimensional array\n",
    "hello = tf.constant(\"hello\")\n",
    "world = tf.constant(\" world\")"
   ]
  },
  {
   "cell_type": "code",
   "execution_count": 4,
   "metadata": {},
   "outputs": [
    {
     "data": {
      "text/plain": [
       "tensorflow.python.framework.ops.Tensor"
      ]
     },
     "execution_count": 4,
     "metadata": {},
     "output_type": "execute_result"
    }
   ],
   "source": [
    "type(hello)"
   ]
  },
  {
   "cell_type": "code",
   "execution_count": 6,
   "metadata": {},
   "outputs": [
    {
     "name": "stdout",
     "output_type": "stream",
     "text": [
      "Tensor(\"Const:0\", shape=(), dtype=string)\n"
     ]
    }
   ],
   "source": [
    "print(hello)\n",
    "# we can't directly run tensor \n",
    "# we need a session"
   ]
  },
  {
   "cell_type": "code",
   "execution_count": 10,
   "metadata": {
    "collapsed": true
   },
   "outputs": [],
   "source": [
    "with tf.Session() as sess:\n",
    "    result = sess.run(hello+world)\n",
    "\n",
    "# Session is similar to a  file it need to closed "
   ]
  },
  {
   "cell_type": "code",
   "execution_count": 11,
   "metadata": {},
   "outputs": [
    {
     "name": "stdout",
     "output_type": "stream",
     "text": [
      "b'hello world'\n"
     ]
    }
   ],
   "source": [
    "print(result)"
   ]
  },
  {
   "cell_type": "markdown",
   "metadata": {},
   "source": [
    "* Opertaions "
   ]
  },
  {
   "cell_type": "code",
   "execution_count": 15,
   "metadata": {},
   "outputs": [
    {
     "name": "stdout",
     "output_type": "stream",
     "text": [
      "type of a is  <class 'tensorflow.python.framework.ops.Tensor'> \n",
      "\n",
      "sum is  11\n"
     ]
    }
   ],
   "source": [
    "a = tf.constant(10)\n",
    "b = tf.constant(1)\n",
    "print(\"type of a is \", type(a), \"\\n\")\n",
    "with tf.Session() as sess:\n",
    "    print(\"sum is \",sess.run(a+b))"
   ]
  },
  {
   "cell_type": "markdown",
   "metadata": {},
   "source": [
    "- tensorflow is similar to numpy\n",
    "- numpy creates nd array and tensorflow creats nd tensors"
   ]
  },
  {
   "cell_type": "code",
   "execution_count": 25,
   "metadata": {
    "collapsed": true
   },
   "outputs": [],
   "source": [
    "const = tf.constant(3) # a constant\n",
    "\n",
    "fil_mat = tf.fill((4, 4), 2) # 4X4 matrix filled with ones\n",
    "\n",
    "zero = tf.zeros((4, 4)) # matrix with zeros\n",
    "one = tf.ones(4, 4) #ones\n",
    "\n",
    "rand_norm = tf.random_normal((4, 4), mean = 0, stddev= 0.4) # normal distribution\n",
    "\n",
    "rand_uni = tf.random_uniform((4, 4), minval = 0 , maxval = 15) # uniform distribution"
   ]
  },
  {
   "cell_type": "markdown",
   "metadata": {},
   "source": [
    "- we usually use with Session() as sess:\n",
    "- but ipynb has interactive mode that keeps session active on entire notebook"
   ]
  },
  {
   "cell_type": "code",
   "execution_count": 26,
   "metadata": {
    "collapsed": true
   },
   "outputs": [],
   "source": [
    "sess = tf.InteractiveSession()"
   ]
  },
  {
   "cell_type": "code",
   "execution_count": 28,
   "metadata": {},
   "outputs": [
    {
     "name": "stdout",
     "output_type": "stream",
     "text": [
      "3 \n",
      "\n",
      "[[2 2 2 2]\n",
      " [2 2 2 2]\n",
      " [2 2 2 2]\n",
      " [2 2 2 2]] \n",
      "\n",
      "[[ 0.  0.  0.  0.]\n",
      " [ 0.  0.  0.  0.]\n",
      " [ 0.  0.  0.  0.]\n",
      " [ 0.  0.  0.  0.]] \n",
      "\n",
      "[1 1 1 1] \n",
      "\n",
      "[[-0.06138824 -0.56423253  0.21484803 -0.23428564]\n",
      " [ 0.2412632   0.01093897  0.59810513 -0.00944217]\n",
      " [ 0.00275855 -0.22687896 -0.68629301  0.40522501]\n",
      " [-1.67462862  0.486931   -0.39862299  0.20518576]] \n",
      "\n",
      "[[ 10.61816788  13.72140026  12.67614269   6.03772068]\n",
      " [ 12.82941151   0.52316844   3.94951344   7.30294514]\n",
      " [  4.42410183  14.02230263   7.83962488  12.35296535]\n",
      " [ 11.81871796  13.10065269   2.36957431  14.26127529]] \n",
      "\n"
     ]
    }
   ],
   "source": [
    "l =[const, fil_mat, zero, one, rand_norm, rand_uni]\n",
    "for obj in l:\n",
    "    print(sess.run(obj), '\\n')\n",
    "    \n",
    "# once again interactive session works only on jupyter notebook"
   ]
  },
  {
   "cell_type": "code",
   "execution_count": 29,
   "metadata": {
    "collapsed": true
   },
   "outputs": [],
   "source": [
    "mat1 = tf.constant([[1, 2],\n",
    "                    [3, 4]])\n",
    "\n",
    "mat2 = tf.constant([[3],\n",
    "                    [5]])"
   ]
  },
  {
   "cell_type": "code",
   "execution_count": 33,
   "metadata": {},
   "outputs": [
    {
     "name": "stdout",
     "output_type": "stream",
     "text": [
      "(2, 2) (2, 1)\n"
     ]
    }
   ],
   "source": [
    "print(mat1.get_shape(), mat2.get_shape())"
   ]
  },
  {
   "cell_type": "code",
   "execution_count": 38,
   "metadata": {},
   "outputs": [
    {
     "name": "stdout",
     "output_type": "stream",
     "text": [
      "[[13]\n",
      " [29]]\n",
      "\n",
      " [[13]\n",
      " [29]]\n"
     ]
    }
   ],
   "source": [
    "# matrix multiplication\n",
    "mul = tf.matmul(mat1, mat2)\n",
    "print(sess.run(mul))\n",
    "# you can also use eval method\n",
    "print('\\n', mul.eval())"
   ]
  },
  {
   "cell_type": "markdown",
   "metadata": {},
   "source": [
    "## Graphs"
   ]
  },
  {
   "cell_type": "code",
   "execution_count": 39,
   "metadata": {
    "collapsed": true
   },
   "outputs": [],
   "source": [
    "n1 = tf.constant(4)\n",
    "n2 = tf.constant(3)\n",
    "n3 = n1 + n2\n",
    "# all these are stored in the form of node"
   ]
  },
  {
   "cell_type": "code",
   "execution_count": 41,
   "metadata": {},
   "outputs": [
    {
     "data": {
      "text/plain": [
       "7"
      ]
     },
     "execution_count": 41,
     "metadata": {},
     "output_type": "execute_result"
    }
   ],
   "source": [
    "n3.eval()"
   ]
  },
  {
   "cell_type": "code",
   "execution_count": 43,
   "metadata": {},
   "outputs": [
    {
     "name": "stdout",
     "output_type": "stream",
     "text": [
      "Tensor(\"Const_15:0\", shape=(), dtype=int32)\n"
     ]
    }
   ],
   "source": [
    "print(n2)"
   ]
  },
  {
   "cell_type": "code",
   "execution_count": 44,
   "metadata": {},
   "outputs": [
    {
     "name": "stdout",
     "output_type": "stream",
     "text": [
      "<tensorflow.python.framework.ops.Graph object at 0x000002C5840F0F28>\n"
     ]
    }
   ],
   "source": [
    "# all this work is done intenally in graph \n",
    "print(tf.get_default_graph())"
   ]
  },
  {
   "cell_type": "code",
   "execution_count": 48,
   "metadata": {},
   "outputs": [
    {
     "name": "stdout",
     "output_type": "stream",
     "text": [
      "<tensorflow.python.framework.ops.Graph object at 0x000002C584C4A390>\n"
     ]
    }
   ],
   "source": [
    "# we can create our own graph\n",
    "g = tf.Graph()\n",
    "print(g)"
   ]
  },
  {
   "cell_type": "code",
   "execution_count": 50,
   "metadata": {},
   "outputs": [
    {
     "name": "stdout",
     "output_type": "stream",
     "text": [
      "<tensorflow.python.framework.ops.Graph object at 0x000002C5840F0F28>\n"
     ]
    }
   ],
   "source": [
    "graph2 = tf.get_default_graph()\n",
    "print(graph2)"
   ]
  },
  {
   "cell_type": "code",
   "execution_count": 51,
   "metadata": {},
   "outputs": [
    {
     "name": "stdout",
     "output_type": "stream",
     "text": [
      "True\n"
     ]
    }
   ],
   "source": [
    "# you can set your graph as default\n",
    "with g.as_default():\n",
    "    print(g is tf.get_default_graph())"
   ]
  },
  {
   "cell_type": "code",
   "execution_count": 53,
   "metadata": {},
   "outputs": [
    {
     "name": "stdout",
     "output_type": "stream",
     "text": [
      "False\n"
     ]
    }
   ],
   "source": [
    "print(g is tf.get_default_graph())\n",
    "# default graphs exits only with in the scope of session"
   ]
  },
  {
   "cell_type": "markdown",
   "metadata": {},
   "source": [
    "Variables and place holder"
   ]
  },
  {
   "cell_type": "code",
   "execution_count": 54,
   "metadata": {
    "collapsed": true
   },
   "outputs": [],
   "source": [
    "# variables need to be intialed befor running session\n",
    "# place holder need to no data type and size"
   ]
  },
  {
   "cell_type": "code",
   "execution_count": 8,
   "metadata": {
    "collapsed": true
   },
   "outputs": [],
   "source": [
    "sess = tf.InteractiveSession()"
   ]
  },
  {
   "cell_type": "code",
   "execution_count": 9,
   "metadata": {},
   "outputs": [],
   "source": [
    "ten = tf.random_uniform((4, 4), 0, 0.5)\n",
    "var = tf.Variable(initial_value= ten)"
   ]
  },
  {
   "cell_type": "code",
   "execution_count": 10,
   "metadata": {},
   "outputs": [],
   "source": [
    "# You need to initial it first\n",
    "init = tf.global_variables_initializer()"
   ]
  },
  {
   "cell_type": "code",
   "execution_count": 12,
   "metadata": {},
   "outputs": [
    {
     "data": {
      "text/plain": [
       "array([[ 0.06688541,  0.17735052,  0.2672224 ,  0.02910304],\n",
       "       [ 0.2728138 ,  0.46080071,  0.13473171,  0.34500384],\n",
       "       [ 0.00224918,  0.47596723,  0.3899346 ,  0.11672169],\n",
       "       [ 0.16384679,  0.39257121,  0.22297883,  0.129085  ]], dtype=float32)"
      ]
     },
     "execution_count": 12,
     "metadata": {},
     "output_type": "execute_result"
    }
   ],
   "source": [
    "sess.run(init)\n",
    "sess.run(var)"
   ]
  },
  {
   "cell_type": "code",
   "execution_count": 22,
   "metadata": {
    "collapsed": true
   },
   "outputs": [],
   "source": [
    "ph = tf.placeholder(tf.float16, shape=(1, 2))"
   ]
  }
 ],
 "metadata": {
  "kernelspec": {
   "display_name": "Python 3",
   "language": "python",
   "name": "python3"
  },
  "language_info": {
   "codemirror_mode": {
    "name": "ipython",
    "version": 3
   },
   "file_extension": ".py",
   "mimetype": "text/x-python",
   "name": "python",
   "nbconvert_exporter": "python",
   "pygments_lexer": "ipython3",
   "version": "3.6.2"
  }
 },
 "nbformat": 4,
 "nbformat_minor": 2
}
